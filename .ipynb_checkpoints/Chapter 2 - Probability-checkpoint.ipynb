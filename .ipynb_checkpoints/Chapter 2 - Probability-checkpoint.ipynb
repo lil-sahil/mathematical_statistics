{
 "cells": [
  {
   "cell_type": "markdown",
   "id": "44ca2880",
   "metadata": {},
   "source": [
    "# Summary"
   ]
  },
  {
   "cell_type": "markdown",
   "id": "2bb6a535",
   "metadata": {},
   "source": [
    "### Set Notation\n",
    "\n",
    "Use capital letters A,B,C, ... to denote sets of points. If the elements in the set A are $a_1, a_2, a_3$, we will write $A = \\{a_1,a_2, a_3\\}$.\n",
    "\n",
    "- $S$ is the universal set.\n",
    "- $A \\subset B$ pronounced A subset B, all elements of A are in B.\n",
    "- $A \\cup B$ pronounced A union B, all elements that are either in $A$ or $B$ or both. \n",
    "- $A \\cap B$ pronounced A intersection B, all elements in $A$ and $B$\n",
    "- $\\bar{A}$ is the complement of $A$. So all items outside of $A$. Therefore $A \\cup \\bar A = S$\n",
    "    <img src=\"set_notation.png\" width=400 height=400 />\n",
    "    <img src=\"set_notation_2.png\" width=400 height=400 />\n",
    "    <img src=\"set_notation_3.png\" width=400 height=400 />\n",
    "\n",
    "- Sets $A$ and $B$ are said to be <b>disjoint</b> or <b>mutually exclusive</b>, if their intersection is 0. That is $A \\cap B = \\emptyset$.They have no points common between them.\n",
    "\n",
    "### Distributive Laws\n",
    "\n",
    "$A \\cap (B \\cup C) = (A \\cap B) \\cup (A \\cap C)$<br>\n",
    "$A \\cup (B \\cap C) = (A \\cup B) \\cap (A \\cup C)$\n",
    "\n",
    "### DeMorgan's Laws\n",
    "$\\overline{(A \\cap B)} = \\bar A \\cup \\bar B$ and $\\overline{(A \\cup B)} = \\bar A \\cap \\bar B$ \n",
    "\n",
    "### A Probabilistic Model for an Experiment: The Discrete Case:\n",
    "\n",
    "- <b>Experiment</b>: the process by which an observation is made. ex. Die tossing, coin flipping, measuring IQ of an individual.\n",
    "- When an experiment is performed, it can result in one or more outcomes, called <b>Events</b>\n",
    "- If an experiment consists of counting the number of bacteria in a portion of food, some events of interest could be:\n",
    "    - A: Exactly 110 bacteria are present.\n",
    "    - B: More than 200 bacteria are present.\n",
    "    - C: The number of bacteria present is between 100 and 300.\n",
    "- Another example is an experiment consisting of tossing a die. Some events could be:\n",
    "    - A: Observe an odd number.\n",
    "    - B: Observe a number less than 5.\n",
    "    - C: Observe a 2 or 3.\n",
    "    - $E_1$: Observe a 1.\n",
    "    - $E_2$: Observe a 2.\n",
    "    - $E_3$: Observe a 3.\n",
    "    - $E_4$: Observe a 4.\n",
    "    - $E_5$: Observe a 5.\n",
    "    - $E_6$: Observe a 6.\n",
    "    \n",
    "    - From the above events, events {A,B and C} are compund events, as they can be broken down further into events, whereas events {$E_{1-6}$} are simple events, which cannot be broken down further into simpler events and thus can only happen in one way.\n",
    "    - <b>Simple Event</b>: is an event that connot be decomposed. Each simple event corresponds to one and only one sample point.\n",
    "    - <b>Sample Space</b>: is the set consisting of all possible sample points for an experiment. Denoter by $S$.\n",
    "    <img src=\"sample_space.png\" width=400 height=400 />\n",
    "    - <b>Discrete Sample Space</b>: contains either a finite or a countable number of distinct sample points.\n",
    "    <img src=\"discrete_probability_def.png\" width=400 height=400 />\n",
    "    \n"
   ]
  },
  {
   "cell_type": "markdown",
   "id": "22aaf0e4",
   "metadata": {},
   "source": [
    "### Question 2.1"
   ]
  },
  {
   "cell_type": "markdown",
   "id": "a13ec875",
   "metadata": {},
   "source": [
    "Suppose a family contains two children of different ages, and we are interested in the gender\n",
    "of these children. Let F denote that a child is female and M that the child is male and let a\n",
    "pair such as F M denote that the older child is female and the younger is male. There are four\n",
    "points in the set S of possible observations:\n",
    "S = {F F, F M, M F, M M}.\n",
    "Let A denote the subset of possibilities containing no males; B, the subset containing two\n",
    "males; and C, the subset containing at least one male. List the elements of A, B, C, A ∩ B,\n",
    "A ∪ B, A ∩ C, A ∪ C, B ∩ C, B ∪ C, and C ∩ B."
   ]
  },
  {
   "cell_type": "markdown",
   "id": "11557f11",
   "metadata": {},
   "source": [
    "$A = \\{FF\\}$<br>\n",
    "$B = \\{MM\\}$<br>\n",
    "$C = \\{FM,MF\\}$<br>\n",
    "\n",
    "$A \\cap B = \\emptyset$<br>\n",
    "$A \\cup B = \\{FF,MM\\}$<br>\n",
    "$A \\cap C = \\emptyset$<br>\n",
    "$A \\cup C = \\{FF,FM,MF\\}$<br>\n",
    "$B \\cap C = \\emptyset$<br>\n",
    "$B \\cup C = \\{MM,FM,MF\\}$<br>\n",
    "$C \\cap B = \\emptyset$<br>\n"
   ]
  },
  {
   "cell_type": "markdown",
   "id": "2e5df4dc",
   "metadata": {},
   "source": [
    "### Question 2.6\n",
    "From a survey of 60 students attending a university, it was found that 9 were living off campus, 36 were undergraduates, and 3 were undergraduates living off campus. Find the number of these students who were:"
   ]
  },
  {
   "cell_type": "code",
   "execution_count": 6,
   "id": "d885d9e6",
   "metadata": {},
   "outputs": [],
   "source": [
    "total_students_university = 60\n",
    "off_campus = 9\n",
    "undergrad_students = 36\n",
    "undergrad_and_off_campus = 3"
   ]
  },
  {
   "cell_type": "markdown",
   "id": "41ca0e18",
   "metadata": {},
   "source": [
    "#### Part a: undergraduates, were living off campus, or both."
   ]
  },
  {
   "cell_type": "code",
   "execution_count": 7,
   "id": "4b124983",
   "metadata": {},
   "outputs": [
    {
     "data": {
      "text/plain": [
       "42"
      ]
     },
     "execution_count": 7,
     "metadata": {},
     "output_type": "execute_result"
    }
   ],
   "source": [
    "undergrad_students + (off_campus - undergrad_and_off_campus)"
   ]
  },
  {
   "cell_type": "markdown",
   "id": "389795a5",
   "metadata": {},
   "source": [
    "#### Part b: undergraduates living on campus."
   ]
  },
  {
   "cell_type": "code",
   "execution_count": 8,
   "id": "22ca3aef",
   "metadata": {},
   "outputs": [
    {
     "data": {
      "text/plain": [
       "33"
      ]
     },
     "execution_count": 8,
     "metadata": {},
     "output_type": "execute_result"
    }
   ],
   "source": [
    "undergrad_students - undergrad_and_off_campus"
   ]
  },
  {
   "cell_type": "markdown",
   "id": "8891d0a8",
   "metadata": {},
   "source": [
    "#### Part c: graduate students living on campus."
   ]
  },
  {
   "cell_type": "code",
   "execution_count": 9,
   "id": "d5ea48c6",
   "metadata": {},
   "outputs": [
    {
     "data": {
      "text/plain": [
       "18"
      ]
     },
     "execution_count": 9,
     "metadata": {},
     "output_type": "execute_result"
    }
   ],
   "source": [
    "total_students_university - undergrad_students - (off_campus - undergrad_and_off_campus)"
   ]
  },
  {
   "cell_type": "markdown",
   "id": "3e0a5df8",
   "metadata": {},
   "source": [
    "### Question 2.9"
   ]
  },
  {
   "cell_type": "markdown",
   "id": "6e6b3127",
   "metadata": {},
   "source": [
    "Every person’s blood type is A, B, AB, or O. In addition, each individual either has the Rhesus (Rh) factor (+) or does not (−). A medical technician records a person’s blood type and Rh factor. List the sample space for this experiment."
   ]
  },
  {
   "cell_type": "markdown",
   "id": "e178ed58",
   "metadata": {},
   "source": [
    "$S = \\{A+, A-, B+, B-, AB+, AB-, O+, O-\\}$"
   ]
  },
  {
   "cell_type": "markdown",
   "id": "303b452d",
   "metadata": {},
   "source": [
    "### Question 2.11"
   ]
  },
  {
   "cell_type": "markdown",
   "id": "766e3956",
   "metadata": {},
   "source": [
    "A sample space consists of five simple events, E 1 , E 2 , E 3 , E 4 , and E 5 ."
   ]
  },
  {
   "cell_type": "markdown",
   "id": "62639f03",
   "metadata": {},
   "source": [
    "#### Part a: If P(E 1 ) = P(E 2 ) = 0.15, P(E 3 ) = 0.4, and P(E 4 ) = 2P(E 5 ), find the probabilities of E 4 and E 5 ."
   ]
  },
  {
   "cell_type": "markdown",
   "id": "40ea992d",
   "metadata": {},
   "source": [
    "$P(E_1) = 0.15$\\\n",
    "$P(E_2) = 0.15$\\\n",
    "$P(E_3) = 0.4$\\\n",
    "\n",
    "$1 = P(E_1) + P(E_2) + P(E_3) + P(E_4) + P(E_5)$\\\n",
    "$1 = 0.15 + 0.15 + 0.4 + P(E_4) + P(E_5)$\\\n",
    "$1 = 0.7 + P(E_4) + P(E_5)$\\\n",
    "$1 = 0.7 + 2 * P(E_5) + P(E_5)$\\\n",
    "$1 - 0.7 = 3P(E_5)$\\\n",
    "$\\frac{0.3}{3} = P(E_5)$\\\n",
    "$P(E_5) = \\frac{0.3}{3}$\\\n",
    "$P(E_4) = \\frac{0.6}{3}$\n"
   ]
  },
  {
   "cell_type": "markdown",
   "id": "c1791974",
   "metadata": {},
   "source": [
    "#### Part b: If P(E 1 ) = 3P(E 2 ) = 0.3, find the probabilities of the remaining simple events if you know that the remaining simple events are equally probable."
   ]
  },
  {
   "cell_type": "markdown",
   "id": "de13ad46",
   "metadata": {},
   "source": [
    "$1 = 0.3 + 0.1 + P(E_{3-6})$\\\n",
    "$0.6 = P(E_{3-6})$\\\n",
    "$\\frac{0.6}{3} = P(E_3) = P(E_4) = P(E_5) = 0.2$\n"
   ]
  },
  {
   "cell_type": "markdown",
   "id": "6392fa9a",
   "metadata": {},
   "source": [
    "### Question 2.13"
   ]
  },
  {
   "cell_type": "markdown",
   "id": "7a76671a",
   "metadata": {},
   "source": [
    "Americans can be quite suspicious, especially when it comes to government conspiracies. On the question of whether the U.S. Air Force has withheld proof of the existence of intelligent life on other planets, the proportions of Americans with varying opinions are given in the table.\n",
    "\n",
    "| Opinion | Proportion |\n",
    "| --- | --- |\n",
    "| Very likely | 0.24 |\n",
    "| Somewhat likely | 0.24 |\n",
    "| Unlikely | 0.40 |\n",
    "| Other | 0.12 |\n",
    "\n",
    "Suppose that one American is selected and his opinion is recorded."
   ]
  },
  {
   "cell_type": "markdown",
   "id": "077f3cab",
   "metadata": {},
   "source": [
    "#### Part a: What are the simple events for this experiment?"
   ]
  },
  {
   "cell_type": "markdown",
   "id": "6c60d6eb",
   "metadata": {},
   "source": [
    "$S = \\{Very \\ likely, Somewhat \\ likely, Unlikely, Other\\}$"
   ]
  },
  {
   "cell_type": "markdown",
   "id": "2c52854f",
   "metadata": {},
   "source": [
    "#### Part b: Are the simple events that you gave in part (a) all equally likely? If not, what are the probabilities that should be assigned to each?"
   ]
  },
  {
   "cell_type": "markdown",
   "id": "4ff00504",
   "metadata": {},
   "source": [
    "Not equally likely. The probabilities should be the proportions."
   ]
  },
  {
   "cell_type": "markdown",
   "id": "84bcc17d",
   "metadata": {},
   "source": [
    "#### Part c: What is the probability that the person selected finds it at least somewhat likely that the Air Force is withholding information about intelligent life on other planets?"
   ]
  },
  {
   "cell_type": "markdown",
   "id": "8b4eb575",
   "metadata": {},
   "source": [
    "$P = 0.24 + 0.24 = 0.48$"
   ]
  },
  {
   "cell_type": "markdown",
   "id": "89d44fc5",
   "metadata": {},
   "source": [
    "### Question 2.15"
   ]
  },
  {
   "cell_type": "markdown",
   "id": "27845ab2",
   "metadata": {},
   "source": [
    "An oil prospecting firm hits oil or gas on 10% of its drillings. If the firm drills two wells,\n",
    "the four possible simple events and three of their associated probabilities are as given in the\n",
    "accompanying table. Find the probability that the company will hit oil or gas\n",
    "\n",
    "| Simple Event | Outcome of First Drilling | Outcome of Second Drilling | Probability |\n",
    "| --- | --- | --- | --- |\n",
    "| $E_1$ | Hit (oil or gas) | Hit (oil or gas) | 0.01 |\n",
    "| $E_2$ | Hit | Miss | ? |\n",
    "| $E_3$ | Miss | Hit | 0.09 |\n",
    "| $E_4$ | Miss | Miss | 0.81 |\n"
   ]
  },
  {
   "cell_type": "markdown",
   "id": "478f513e",
   "metadata": {},
   "source": [
    "#### Part a: on the first drilling and miss on the second."
   ]
  },
  {
   "cell_type": "markdown",
   "id": "9c45f4ca",
   "metadata": {},
   "source": [
    "$P(E_2) = 1 - 0.01 - 0.09 - 0.81 = 0.09$"
   ]
  },
  {
   "cell_type": "markdown",
   "id": "b65ac1a3",
   "metadata": {},
   "source": [
    "#### Part b: on at least one of the two drillings."
   ]
  },
  {
   "cell_type": "markdown",
   "id": "0d9da248",
   "metadata": {},
   "source": [
    "$P = 0.01 + 0.09 + 0.09 = 0.19$"
   ]
  },
  {
   "cell_type": "markdown",
   "id": "ce03e49c",
   "metadata": {},
   "source": [
    "### Question 2.17"
   ]
  },
  {
   "cell_type": "markdown",
   "id": "5647e83a",
   "metadata": {},
   "source": [
    "Hydraulic landing assemblies coming from an aircraft rework facility are each inspected for defects. Historical records indicate that 8% have defects in shafts only, 6% have defects in bushings only, and 2% have defects in both shafts and bushings. One of the hydraulic assemblies is selected randomly. What is the probability that the assembly has:"
   ]
  },
  {
   "cell_type": "markdown",
   "id": "ffe43858",
   "metadata": {},
   "source": [
    "#### Part a: a bushing defect?"
   ]
  },
  {
   "cell_type": "markdown",
   "id": "73f298c3",
   "metadata": {},
   "source": [
    "$P = 0.06 + 0.02 = 0.08$ "
   ]
  },
  {
   "cell_type": "markdown",
   "id": "907a5240",
   "metadata": {},
   "source": [
    "#### Part b: a shaft or bushing defect?"
   ]
  },
  {
   "cell_type": "markdown",
   "id": "1bc9530b",
   "metadata": {},
   "source": [
    "$P = 0.08 + 0.02 + 0.06 = 0.16$"
   ]
  },
  {
   "cell_type": "markdown",
   "id": "22b1d2f0",
   "metadata": {},
   "source": [
    "#### Part c: exactly one of the two types of defects?"
   ]
  },
  {
   "cell_type": "markdown",
   "id": "5ad7ff1f",
   "metadata": {},
   "source": [
    "$P = 0.08 + 0.06 = 0.14$"
   ]
  },
  {
   "cell_type": "markdown",
   "id": "260e6c2f",
   "metadata": {},
   "source": [
    "#### Part d: neither type of defect?"
   ]
  },
  {
   "cell_type": "markdown",
   "id": "5ae578b8",
   "metadata": {},
   "source": [
    "$P = 1 - 0.08 - 0.06 - 0.02 = 0.84$"
   ]
  },
  {
   "cell_type": "code",
   "execution_count": null,
   "id": "a07155a5",
   "metadata": {},
   "outputs": [],
   "source": []
  }
 ],
 "metadata": {
  "kernelspec": {
   "display_name": "Python 3 (ipykernel)",
   "language": "python",
   "name": "python3"
  },
  "language_info": {
   "codemirror_mode": {
    "name": "ipython",
    "version": 3
   },
   "file_extension": ".py",
   "mimetype": "text/x-python",
   "name": "python",
   "nbconvert_exporter": "python",
   "pygments_lexer": "ipython3",
   "version": "3.8.8"
  }
 },
 "nbformat": 4,
 "nbformat_minor": 5
}
