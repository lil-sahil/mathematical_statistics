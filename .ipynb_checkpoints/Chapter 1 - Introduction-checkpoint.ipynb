{
 "cells": [
  {
   "cell_type": "code",
   "execution_count": 1,
   "id": "91e59d21",
   "metadata": {},
   "outputs": [],
   "source": [
    "import numpy as np\n",
    "import functools\n",
    "import seaborn as sns\n",
    "\n",
    "\n",
    "import warnings\n",
    "warnings.filterwarnings('ignore')"
   ]
  },
  {
   "cell_type": "markdown",
   "id": "e20af95a",
   "metadata": {},
   "source": [
    "### Question 1.24\n",
    "\n",
    "Aqua running has been suggested as a method of cardiovascular conditioning for injured\n",
    "athletes and others who desire a low-impact aerobics program. In a study to investigate the\n",
    "relationship between exercise cadence and heart rate, 1 the heart rates of 20 healthy volunteers\n",
    "were measured at a cadence of 48 cycles per minute (a cycle consisted of two steps). The data\n",
    "are as follows:\n",
    "87\n",
    "101\n",
    "109\n",
    "91\n",
    "79\n",
    "78\n",
    "80\n",
    "112\n",
    "96\n",
    "94\n",
    "95\n",
    "98\n",
    "90\n",
    "94\n",
    "92\n",
    "107\n",
    "96\n",
    "81\n",
    "98\n",
    "96"
   ]
  },
  {
   "cell_type": "code",
   "execution_count": 5,
   "id": "c41373af",
   "metadata": {},
   "outputs": [],
   "source": [
    "data = [87, 109, 79, 80, 96, 95, 90, 92, 96, 98, 101, 91, 78, 112, 94, 98, 94, 107, 81, 96]"
   ]
  },
  {
   "cell_type": "code",
   "execution_count": 55,
   "id": "e8d15f11",
   "metadata": {},
   "outputs": [],
   "source": [
    "def mean(data):\n",
    "    return (functools.reduce(lambda a,b: a+b, data))/len(data)\n",
    "\n",
    "def variance(data):\n",
    "    return (functools.reduce(lambda accumulator,value: accumulator + (value-mean(data))**2, data))/len(data)-1\n",
    "\n",
    "def standard_deviation(data):\n",
    "    return variance(data)**0.5"
   ]
  },
  {
   "cell_type": "markdown",
   "id": "f6eda4f6",
   "metadata": {},
   "source": [
    "#### Part a: Use the range of the measurements to obtain an estimate of the standard deviation."
   ]
  },
  {
   "cell_type": "markdown",
   "id": "1c2e25b1",
   "metadata": {},
   "source": [
    "The standard deviation can also be approximated using just the range as:\n",
    "\n",
    "$$\\sigma = \\frac{range}{4}$$\n",
    "\\\n",
    "$$\\sigma = \\frac{112 - 78}{4}$$\n",
    "\\\n",
    "$$\\sigma = 8.5$$"
   ]
  },
  {
   "cell_type": "markdown",
   "id": "b73e662d",
   "metadata": {},
   "source": [
    "#### Part b: Construct a frequency histogram for the data. Use the histogram to obtain a visual approximation to y and s."
   ]
  },
  {
   "cell_type": "code",
   "execution_count": 52,
   "id": "941946aa",
   "metadata": {},
   "outputs": [
    {
     "data": {
      "text/plain": [
       "<AxesSubplot:ylabel='Count'>"
      ]
     },
     "execution_count": 52,
     "metadata": {},
     "output_type": "execute_result"
    },
    {
     "data": {
      "image/png": "[encoded data removed]",
      "text/plain": [
       "<Figure size 432x288 with 1 Axes>"
      ]
     },
     "metadata": {
      "needs_background": "light"
     },
     "output_type": "display_data"
    }
   ],
   "source": [
    "sns.histplot(data, kde = False)"
   ]
  },
  {
   "cell_type": "markdown",
   "id": "f0b3fb0d",
   "metadata": {},
   "source": [
    "Visully it can be seen that the distribution is not normal. The $\\mu$ seems to be about 96."
   ]
  },
  {
   "cell_type": "markdown",
   "id": "797938a0",
   "metadata": {},
   "source": [
    "#### Part c: Calculate y and s. Compare these results with the calculation checks provided by parts (a) and (b)."
   ]
  },
  {
   "cell_type": "code",
   "execution_count": 53,
   "id": "494d77d9",
   "metadata": {},
   "outputs": [
    {
     "name": "stdout",
     "output_type": "stream",
     "text": [
      "The Mean is 93.7\n"
     ]
    }
   ],
   "source": [
    "print('The Mean is {}'.format(mean(data)))"
   ]
  },
  {
   "cell_type": "code",
   "execution_count": 54,
   "id": "f7ac6f71",
   "metadata": {},
   "outputs": [
    {
     "name": "stdout",
     "output_type": "stream",
     "text": [
      "The standard deviation is 9.370992476787075\n"
     ]
    }
   ],
   "source": [
    "print('The standard deviation is {}'.format(standard_deviation(data)))"
   ]
  },
  {
   "cell_type": "markdown",
   "id": "43d841a0",
   "metadata": {},
   "source": [
    "### Question 1.27\n",
    "\n",
    "A set of 340 examination scores exhibiting a bell-shaped relative frequency distribution has a mean of y = 72 and a standard deviation of s = 8. Approximately how many of the scores would you expect to fall in the interval from 64 to 80? The interval from 56 to 88?"
   ]
  },
  {
   "cell_type": "markdown",
   "id": "86512970",
   "metadata": {},
   "source": [
    "$\\bar{y} = 72$<br>\n",
    "$s = 8$\n",
    "\n",
    "The percentage of scores expected to be within the interval 64-80 will be 68%. This is according to the imperical rule, of the range being within ±1$\\sigma$.\n",
    "\n",
    "The percentage of score expected to be within the interval 56-88 will be 95%. This is according to the imperical rule, of the range being within ±2$\\sigma$."
   ]
  },
  {
   "cell_type": "markdown",
   "id": "666eeba3",
   "metadata": {},
   "source": [
    "### Question 1.28\n",
    "\n",
    "The discharge of suspended solids from a phosphate mine is normally distributed with mean daily discharge 27 milligrams per liter (mg/L) and standard deviation 14 mg/L. In what proportion of the days will the daily discharge be less than 13 mg/L?"
   ]
  },
  {
   "cell_type": "markdown",
   "id": "636b22f7",
   "metadata": {},
   "source": [
    "$\\bar{y} = 27$<br>\n",
    "$s = 14$\n",
    "\n",
    "The porportion of days where the discharge will be less than 13 mg/l will be around 16%:\n",
    "$$$$\n",
    "$$\\frac{68}{2}= 34$$\n",
    "\\\n",
    "$$50 - 34 = 16$$"
   ]
  },
  {
   "cell_type": "markdown",
   "id": "61ba5d19",
   "metadata": {},
   "source": [
    "### Question 1.30\n",
    "\n",
    "Compared to their stay-at-home peers, women employed outside the home have higher levels of high-density lipoproteins (HDL), the “good” cholesterol associated with lower risk for heart attacks. A study of cholesterol levels in 2000 women, aged 25–64, living in Augsburg, Germany, was conducted by Ursula Haertel, Ulrigh Keil, and colleagues 2 at the GSF-Medis Institut in Munich. Of these 2000 women, the 48% who worked outside the home had HDL levels that were between 2.5 and 3.6 milligrams per deciliter (mg/dL) higher than the HDL levels of their stay-at-home counterparts. Suppose that the difference in HDL levels is normally distributed, with mean 0 (indicating no difference between the two groups of women) and standard deviation 1.2 mg/dL. If you were to select an employed woman and a stay-at-home counterpart at random, what is the probability that the difference in their HDL levels would be between 1.2 and 2.4?"
   ]
  },
  {
   "cell_type": "markdown",
   "id": "a82f350b",
   "metadata": {},
   "source": [
    "$sample \\ size = 2000 \\ women$<br>\n",
    "$48\\%$ of the women worked outside the home. <br>\n",
    "Assume normal distribution<br>\n",
    "$\\mu = 0$<br>\n",
    "$s = 1.2$<br>\n",
    "\n",
    "Between 1.2 and 2.4 is within +2$\\sigma$\n",
    "\n",
    "$\\therefore 47.5-34 = 13.5$"
   ]
  },
  {
   "cell_type": "markdown",
   "id": "e520702f",
   "metadata": {},
   "source": [
    "### Question 1.31\n",
    "\n",
    "Over the past year, a fertilizer production process has shown an average daily yield of 60 tons with a variance in daily yields of 100. If the yield should fall to less than 40 tons tomorrow, should this result cause you to suspect an abnormality in the process? (Calculate the probability of obtaining less than 40 tons.) What assumptions did you make concerning the distribution of yields?"
   ]
  },
  {
   "cell_type": "markdown",
   "id": "d06195a5",
   "metadata": {},
   "source": [
    "$\\bar{y} = 60$<br>\n",
    "$s^2 = 100$<br>\n",
    "$s = 10$\n",
    "\n",
    "$\\text{* Assuming normal distribution}$\n",
    "\n",
    "According to the imperical law, the probability of the yield being less than 40 is:\n",
    "$P(yield < 40) = 50 - 47.5 = 2.5\\%$<br>\n",
    "$\\therefore \\text{highly unlikely}$\n",
    "\n"
   ]
  },
  {
   "cell_type": "markdown",
   "id": "6da6e145",
   "metadata": {},
   "source": [
    "### Question 1.33\n",
    "\n",
    "A personnel manager for a certain industry has records of the number of employees absent per day. The average number absent is 5.5, and the standard deviation is 2.5. Because there are many days with zero, one, or two absent and only a few with more than ten absent, the frequency distribution is highly skewed. The manager wants to publish an interval in which at least 75% of these values lie. Use the result in Exercise 1.32 to find such an interval."
   ]
  },
  {
   "cell_type": "markdown",
   "id": "77749065",
   "metadata": {},
   "source": [
    "$\\bar{y}=5.5$<br>\n",
    "$\\sigma = 2.5$<br>\n",
    "\n",
    "Using Tchebysheff’s theorem, which states that for any number of samples, the fraction included in the interval $\\bar{y}-ks  \\ to \\ \\bar{y}+ks$ is atleast $1 - \\frac{1}{k^2}$\n",
    "\n",
    "$ 0.75 = 1 - \\frac{1}{k^2}$<br>\n",
    "$-(0.75 - 1) =  \\frac{1}{k^2}$<br>\n",
    "$k^2 = \\frac{1}{-(0.75 - 1)}$<br>\n",
    "$k = \\sqrt{\\frac{1}{-(0.75 - 1)}}$<br>\n",
    "$k = 2$<br>\n",
    "\n",
    "$\\therefore \\ the \\ interval \\ is $\n",
    "\n",
    "\n",
    "\n"
   ]
  },
  {
   "cell_type": "code",
   "execution_count": 6,
   "id": "37814bee",
   "metadata": {},
   "outputs": [
    {
     "data": {
      "text/plain": [
       "4.0"
      ]
     },
     "execution_count": 6,
     "metadata": {},
     "output_type": "execute_result"
    }
   ],
   "source": [
    "1/(-(0.75-1))"
   ]
  },
  {
   "cell_type": "code",
   "execution_count": null,
   "id": "cb3bd8d6",
   "metadata": {},
   "outputs": [],
   "source": []
  }
 ],
 "metadata": {
  "kernelspec": {
   "display_name": "Python 3 (ipykernel)",
   "language": "python",
   "name": "python3"
  },
  "language_info": {
   "codemirror_mode": {
    "name": "ipython",
    "version": 3
   },
   "file_extension": ".py",
   "mimetype": "text/x-python",
   "name": "python",
   "nbconvert_exporter": "python",
   "pygments_lexer": "ipython3",
   "version": "3.8.8"
  }
 },
 "nbformat": 4,
 "nbformat_minor": 5
}
