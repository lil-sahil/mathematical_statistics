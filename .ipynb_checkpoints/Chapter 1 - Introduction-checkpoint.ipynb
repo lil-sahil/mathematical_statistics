{
 "cells": [
  {
   "cell_type": "code",
   "execution_count": 49,
   "id": "91e59d21",
   "metadata": {},
   "outputs": [],
   "source": [
    "import numpy as np\n",
    "import functools\n",
    "import seaborn as sns\n",
    "import matplotlib.pyplot as plt\n",
    "\n",
    "\n",
    "import warnings\n",
    "warnings.filterwarnings('ignore')"
   ]
  },
  {
   "cell_type": "markdown",
   "id": "e20af95a",
   "metadata": {},
   "source": [
    "### Question 1.24\n",
    "\n",
    "Aqua running has been suggested as a method of cardiovascular conditioning for injured\n",
    "athletes and others who desire a low-impact aerobics program. In a study to investigate the\n",
    "relationship between exercise cadence and heart rate, 1 the heart rates of 20 healthy volunteers\n",
    "were measured at a cadence of 48 cycles per minute (a cycle consisted of two steps). The data\n",
    "are as follows:\n",
    "87\n",
    "101\n",
    "109\n",
    "91\n",
    "79\n",
    "78\n",
    "80\n",
    "112\n",
    "96\n",
    "94\n",
    "95\n",
    "98\n",
    "90\n",
    "94\n",
    "92\n",
    "107\n",
    "96\n",
    "81\n",
    "98\n",
    "96"
   ]
  },
  {
   "cell_type": "code",
   "execution_count": 37,
   "id": "c41373af",
   "metadata": {},
   "outputs": [],
   "source": [
    "data = [87, 109, 79, 80, 96, 95, 90, 92, 96, 98, 101, 91, 78, 112, 94, 98, 94, 107, 81, 96]"
   ]
  },
  {
   "cell_type": "code",
   "execution_count": 35,
   "id": "e8d15f11",
   "metadata": {},
   "outputs": [],
   "source": [
    "def mean(data):\n",
    "    return (functools.reduce(lambda a,b: a+b, data))/len(data)\n",
    "\n",
    "def variance(data):\n",
    "    return (functools.reduce(lambda accumulator,value: accumulator + (value-mean(data))**2, data,0))/(len(data)-1)\n",
    "\n",
    "def standard_deviation(data):\n",
    "    return variance(data)**0.5"
   ]
  },
  {
   "cell_type": "markdown",
   "id": "f6eda4f6",
   "metadata": {},
   "source": [
    "#### Part a: Use the range of the measurements to obtain an estimate of the standard deviation."
   ]
  },
  {
   "cell_type": "markdown",
   "id": "1c2e25b1",
   "metadata": {},
   "source": [
    "The standard deviation can also be approximated using just the range as:\n",
    "\n",
    "$$\\sigma = \\frac{range}{4}$$\n",
    "\\\n",
    "$$\\sigma = \\frac{112 - 78}{4}$$\n",
    "\\\n",
    "$$\\sigma = 8.5$$"
   ]
  },
  {
   "cell_type": "markdown",
   "id": "b73e662d",
   "metadata": {},
   "source": [
    "#### Part b: Construct a frequency histogram for the data. Use the histogram to obtain a visual approximation to y and s."
   ]
  },
  {
   "cell_type": "code",
   "execution_count": 52,
   "id": "941946aa",
   "metadata": {},
   "outputs": [
    {
     "data": {
      "text/plain": [
       "<AxesSubplot:ylabel='Count'>"
      ]
     },
     "execution_count": 52,
     "metadata": {},
     "output_type": "execute_result"
    },
    {
     "data": {
      "image/png": "[encoded data removed]",
      "text/plain": [
       "<Figure size 432x288 with 1 Axes>"
      ]
     },
     "metadata": {
      "needs_background": "light"
     },
     "output_type": "display_data"
    }
   ],
   "source": [
    "sns.histplot(data, kde = False)"
   ]
  },
  {
   "cell_type": "markdown",
   "id": "f0b3fb0d",
   "metadata": {},
   "source": [
    "Visully it can be seen that the distribution is not normal. The $\\mu$ seems to be about 96."
   ]
  },
  {
   "cell_type": "markdown",
   "id": "797938a0",
   "metadata": {},
   "source": [
    "#### Part c: Calculate y and s. Compare these results with the calculation checks provided by parts (a) and (b)."
   ]
  },
  {
   "cell_type": "code",
   "execution_count": 38,
   "id": "494d77d9",
   "metadata": {},
   "outputs": [
    {
     "name": "stdout",
     "output_type": "stream",
     "text": [
      "The Mean is 93.7\n"
     ]
    }
   ],
   "source": [
    "print('The Mean is {}'.format(mean(data)))"
   ]
  },
  {
   "cell_type": "code",
   "execution_count": 39,
   "id": "f7ac6f71",
   "metadata": {},
   "outputs": [
    {
     "name": "stdout",
     "output_type": "stream",
     "text": [
      "The standard deviation is 9.553726195078353\n"
     ]
    }
   ],
   "source": [
    "print('The standard deviation is {}'.format(standard_deviation(data)))"
   ]
  },
  {
   "cell_type": "markdown",
   "id": "43d841a0",
   "metadata": {},
   "source": [
    "### Question 1.27\n",
    "\n",
    "A set of 340 examination scores exhibiting a bell-shaped relative frequency distribution has a mean of y = 72 and a standard deviation of s = 8. Approximately how many of the scores would you expect to fall in the interval from 64 to 80? The interval from 56 to 88?"
   ]
  },
  {
   "cell_type": "markdown",
   "id": "86512970",
   "metadata": {},
   "source": [
    "$\\bar{y} = 72$<br>\n",
    "$s = 8$\n",
    "\n",
    "The percentage of scores expected to be within the interval 64-80 will be 68%. This is according to the imperical rule, of the range being within ±1$\\sigma$.\n",
    "\n",
    "The percentage of score expected to be within the interval 56-88 will be 95%. This is according to the imperical rule, of the range being within ±2$\\sigma$."
   ]
  },
  {
   "cell_type": "markdown",
   "id": "666eeba3",
   "metadata": {},
   "source": [
    "### Question 1.28\n",
    "\n",
    "The discharge of suspended solids from a phosphate mine is normally distributed with mean daily discharge 27 milligrams per liter (mg/L) and standard deviation 14 mg/L. In what proportion of the days will the daily discharge be less than 13 mg/L?"
   ]
  },
  {
   "cell_type": "markdown",
   "id": "636b22f7",
   "metadata": {},
   "source": [
    "$\\bar{y} = 27$<br>\n",
    "$s = 14$\n",
    "\n",
    "The porportion of days where the discharge will be less than 13 mg/l will be around 16%:\n",
    "$$$$\n",
    "$$\\frac{68}{2}= 34$$\n",
    "\\\n",
    "$$50 - 34 = 16$$"
   ]
  },
  {
   "cell_type": "markdown",
   "id": "61ba5d19",
   "metadata": {},
   "source": [
    "### Question 1.30\n",
    "\n",
    "Compared to their stay-at-home peers, women employed outside the home have higher levels of high-density lipoproteins (HDL), the “good” cholesterol associated with lower risk for heart attacks. A study of cholesterol levels in 2000 women, aged 25–64, living in Augsburg, Germany, was conducted by Ursula Haertel, Ulrigh Keil, and colleagues 2 at the GSF-Medis Institut in Munich. Of these 2000 women, the 48% who worked outside the home had HDL levels that were between 2.5 and 3.6 milligrams per deciliter (mg/dL) higher than the HDL levels of their stay-at-home counterparts. Suppose that the difference in HDL levels is normally distributed, with mean 0 (indicating no difference between the two groups of women) and standard deviation 1.2 mg/dL. If you were to select an employed woman and a stay-at-home counterpart at random, what is the probability that the difference in their HDL levels would be between 1.2 and 2.4?"
   ]
  },
  {
   "cell_type": "markdown",
   "id": "a82f350b",
   "metadata": {},
   "source": [
    "$sample \\ size = 2000 \\ women$<br>\n",
    "$48\\%$ of the women worked outside the home. <br>\n",
    "Assume normal distribution<br>\n",
    "$\\mu = 0$<br>\n",
    "$s = 1.2$<br>\n",
    "\n",
    "Between 1.2 and 2.4 is within +2$\\sigma$\n",
    "\n",
    "$\\therefore 47.5-34 = 13.5$"
   ]
  },
  {
   "cell_type": "markdown",
   "id": "e520702f",
   "metadata": {},
   "source": [
    "### Question 1.31\n",
    "\n",
    "Over the past year, a fertilizer production process has shown an average daily yield of 60 tons with a variance in daily yields of 100. If the yield should fall to less than 40 tons tomorrow, should this result cause you to suspect an abnormality in the process? (Calculate the probability of obtaining less than 40 tons.) What assumptions did you make concerning the distribution of yields?"
   ]
  },
  {
   "cell_type": "markdown",
   "id": "d06195a5",
   "metadata": {},
   "source": [
    "$\\bar{y} = 60$<br>\n",
    "$s^2 = 100$<br>\n",
    "$s = 10$\n",
    "\n",
    "$\\text{* Assuming normal distribution}$\n",
    "\n",
    "According to the imperical law, the probability of the yield being less than 40 is:\n",
    "$P(yield < 40) = 50 - 47.5 = 2.5\\%$<br>\n",
    "$\\therefore \\text{highly unlikely}$\n",
    "\n"
   ]
  },
  {
   "cell_type": "markdown",
   "id": "6a96c226",
   "metadata": {},
   "source": [
    "### Question 1.32\n",
    "\n",
    "Let k ≥ 1. Show that, for any set of n measurements, the fraction included in the interval y − ks\n",
    "to y + ks is at least (1 − 1/k 2 ). This result is known as Tchebysheff’s theorem. 3"
   ]
  },
  {
   "cell_type": "markdown",
   "id": "ac6bf89a",
   "metadata": {},
   "source": [
    "let n' be elements outside the interval $\\bar{y}\\pm ks$<br>\n",
    "\n",
    "Then we are trying to prove that $\\frac{n-n'}{n} \\geq 1 - \\frac{1}{k^2}$<br>\n",
    "\n",
    "We know that $s^2 = \\frac{1}{n-1}[\\sum \\limits_{i=1} ^{n}(y{_i}-\\bar{y})^2]$<br>\n",
    "\n",
    "We can split the n elements in two groups:\n",
    "\n",
    "Group one is the set of all elements outside the interval (n' as defined above).<br>\n",
    "let $A = \\{i: |y{_i}-\\bar{y}| \\geq ks\\}$<br>\n",
    "\n",
    "Group two is the set of all elements inside the interval.<br>\n",
    "let $B = \\{i: |y{_i}-\\bar{y}| < ks\\}$<br>\n",
    "\n",
    "Now we can sub these sets into the variance equation:<br>\n",
    "$s^2 = \\frac{1}{n-1}[\\sum \\limits_{i \\epsilon A}(y{_i}-\\bar{y})^2 + \\sum \\limits_{i \\epsilon B}(y{_i}-\\bar{y})^2]$<br>\n",
    "\n",
    "Next, we can say that $\\sum \\limits_{i \\epsilon A}(y{_i}-\\bar{y})^2 \\geq \\sum \\limits_{i \\epsilon A} ^{n'} k^2s^2$ as we showed above that elements in A are greater than $ks$.<br>\n",
    "\n",
    "Subbing this into the variance equation and knowing that $s^2$ must now be greater than the substituted value:<br>\n",
    "$s^2 > \\frac{1}{n-1}[\\sum \\limits_{i \\epsilon A} ^{n'} k^2s^2 + \\sum \\limits_{i \\epsilon B}(y{_i}-\\bar{y})^2]$<br>\n",
    "\n",
    "Using the laws of summation:<br>\n",
    "$s^2 > \\frac{1}{n-1}[ n'k^2s^2 + \\sum \\limits_{i \\epsilon B}(y{_i}-\\bar{y})^2]$<br>\n",
    "\n",
    "Removing the elements that are within the interval, we get:<br>\n",
    "$s^2 > \\frac{1}{n-1}[ n'k^2s^2]$<br>\n",
    "\n",
    "Simplifying:<br>\n",
    "$s^2 > \\frac{1}{n-1}[ n'k^2s^2]$<br><br>\n",
    "$\\frac{s^2}{\\frac{1}{n-1}} > [ n'k^2s^2]$<br><br>\n",
    "$s^2(n-1) > [ n'k^2s^2]$<br><br>\n",
    "\n",
    "\n",
    "\n",
    "\n"
   ]
  },
  {
   "cell_type": "markdown",
   "id": "64bf2fad",
   "metadata": {},
   "source": [
    "$\\epsilon$"
   ]
  },
  {
   "cell_type": "code",
   "execution_count": null,
   "id": "e165106a",
   "metadata": {},
   "outputs": [],
   "source": []
  },
  {
   "cell_type": "markdown",
   "id": "6da6e145",
   "metadata": {},
   "source": [
    "### Question 1.33\n",
    "\n",
    "A personnel manager for a certain industry has records of the number of employees absent per day. The average number absent is 5.5, and the standard deviation is 2.5. Because there are many days with zero, one, or two absent and only a few with more than ten absent, the frequency distribution is highly skewed. The manager wants to publish an interval in which at least 75% of these values lie. Use the result in Exercise 1.32 to find such an interval."
   ]
  },
  {
   "cell_type": "markdown",
   "id": "77749065",
   "metadata": {},
   "source": [
    "$\\bar{y}=5.5$<br>\n",
    "$\\sigma = 2.5$<br>\n",
    "\n",
    "Using Tchebysheff’s theorem, which states that for any number of samples, the fraction included in the interval $\\bar{y}-ks  \\ to \\ \\bar{y}+ks$ is atleast $1 - \\frac{1}{k^2}$\n",
    "\n",
    "$ 0.75 = 1 - \\frac{1}{k^2}$<br>\n",
    "$-(0.75 - 1) =  \\frac{1}{k^2}$<br>\n",
    "$k^2 = \\frac{1}{-(0.75 - 1)}$<br>\n",
    "$k = \\sqrt{\\frac{1}{-(0.75 - 1)}}$<br>\n",
    "$k = 2$<br>\n",
    "\n",
    "$\\therefore \\ the \\ interval \\ is\\ 5.5 - 2(2.5) = 0.5 \\ to \\ 5.5 + 2(2.5) = 10.5$\n",
    "\n",
    "\n",
    "\n"
   ]
  },
  {
   "cell_type": "markdown",
   "id": "42a434ad",
   "metadata": {},
   "source": [
    "### Question 1.34\n",
    "\n",
    "For the data discussed in Exercise 1.33, give an upper bound to the fraction of days when there are more than 13 absentees."
   ]
  },
  {
   "cell_type": "markdown",
   "id": "a9bcc97b",
   "metadata": {},
   "source": [
    "$5.5+k(2.5) = 13$ <br>\n",
    "$k = 3$ <br>\n",
    "\n",
    "$fraction = 1 - \\frac{1}{k^2}$<br>\n",
    "$fraction = 1 - \\frac{1}{3^2}$<br>\n",
    "$fraction = 88\\%$ of values will lie within 3 $\\sigma$\n",
    "$\\therefore 1 - 88\\% = \\frac{1}{9}$ is the fraction of days when there are more than 13 absentees."
   ]
  },
  {
   "cell_type": "markdown",
   "id": "50121a7c",
   "metadata": {},
   "source": [
    "### Question 1.35\n",
    "\n",
    "A pharmaceutical company wants to know whether an experimental drug has an effect on systolic blood pressure. Fifteen randomly selected subjects were given the drug and, after sufficient time for the drug to have an impact, their systolic blood pressures were recorded.The data appear below:\n",
    "172\n",
    "148\n",
    "123\n",
    "140\n",
    "108\n",
    "152\n",
    "123\n",
    "129\n",
    "133\n",
    "130\n",
    "137\n",
    "128\n",
    "115\n",
    "161\n",
    "142"
   ]
  },
  {
   "cell_type": "markdown",
   "id": "f0b0be17",
   "metadata": {},
   "source": [
    "#### Part a: Approximate the value of s using the range approximation."
   ]
  },
  {
   "cell_type": "markdown",
   "id": "f186b07b",
   "metadata": {},
   "source": [
    "$s = \\frac{Range}{4}$<br>\n",
    "$s = \\frac{172 - 108}{4} $<br>\n",
    "$s = 16$"
   ]
  },
  {
   "cell_type": "markdown",
   "id": "6f5d2d3b",
   "metadata": {},
   "source": [
    "#### Part b: Calculate the values of y and s for the 15 blood pressure readings."
   ]
  },
  {
   "cell_type": "code",
   "execution_count": 40,
   "id": "bdd30599",
   "metadata": {},
   "outputs": [],
   "source": [
    "data = [172, 148, 123, 140, 108, 152, 123, 129, 133, 130, 137, 128, 115, 161, 142]"
   ]
  },
  {
   "cell_type": "code",
   "execution_count": 41,
   "id": "56645031",
   "metadata": {},
   "outputs": [
    {
     "name": "stdout",
     "output_type": "stream",
     "text": [
      "The mean of the data is = 136.06666666666666\n"
     ]
    }
   ],
   "source": [
    "print('The mean of the data is = {}'.format(mean(data)))"
   ]
  },
  {
   "cell_type": "code",
   "execution_count": 42,
   "id": "d6d13e01",
   "metadata": {},
   "outputs": [
    {
     "name": "stdout",
     "output_type": "stream",
     "text": [
      "The standard deviation of the data is = 17.102492160361837\n"
     ]
    }
   ],
   "source": [
    "print('The standard deviation of the data is = {}'.format(standard_deviation(data)))"
   ]
  },
  {
   "cell_type": "markdown",
   "id": "d56ac61c",
   "metadata": {},
   "source": [
    "#### Part c: Use Tchebysheff’s theorem (Exercise 1.32) to find values a and b such that at least 75% of the blood pressure measurements lie between a and b."
   ]
  },
  {
   "cell_type": "markdown",
   "id": "b6c97c2f",
   "metadata": {},
   "source": [
    "Using Tchebysheff’s theorem, which states that for any number of samples, the fraction included in the interval $\\bar{y}-ks  \\ to \\ \\bar{y}+ks$ is atleast $1 - \\frac{1}{k^2}$\n",
    "\n",
    "$0.75 = 1 - \\frac{1}{k^2}$<br>\n",
    "$k = 2$<br>\n",
    "$\\therefore$ the interval where atleast 75% of the data lies is $136.1 - 2(17.1) = 101.9$ to $136.1 + 2(17.1) = 170.3$ "
   ]
  },
  {
   "cell_type": "markdown",
   "id": "8eb3a30b",
   "metadata": {},
   "source": [
    "#### Part d: Did Tchebysheff’s theorem work? That is, use the data to find the actual percent of blood pressure readings that are between the values a and b you found in part (c). Is this actual percentage greater than 75%?"
   ]
  },
  {
   "cell_type": "code",
   "execution_count": 44,
   "id": "2778aaf3",
   "metadata": {},
   "outputs": [],
   "source": [
    "data = np.array(data)"
   ]
  },
  {
   "cell_type": "code",
   "execution_count": 45,
   "id": "421f4f80",
   "metadata": {},
   "outputs": [
    {
     "data": {
      "text/plain": [
       "0.9333333333333333"
      ]
     },
     "execution_count": 45,
     "metadata": {},
     "output_type": "execute_result"
    }
   ],
   "source": [
    "len(data[(data > 101.9) & (data < 170.3)])/(len(data))"
   ]
  },
  {
   "cell_type": "markdown",
   "id": "180e194f",
   "metadata": {},
   "source": [
    "Yes, the actual percentage is greater than 75. "
   ]
  },
  {
   "cell_type": "markdown",
   "id": "0f5234b0",
   "metadata": {},
   "source": [
    "### Question 1.36\n",
    "\n",
    "A random sample of 100 foxes was examined by a team of veterinarians to determine the prevalence of a specific parasite. Counting the number of parasites of this specific type, the veterinarians found that 69 foxes had no parasites of the type of interest, 17 had one parasite of the type under study, and so on. A summary of their results is given in the following table:\n",
    "\n",
    "| Number of Parasites | Number of Foxes |\n",
    "| --- | --- |\n",
    "| 0 | 69 |\n",
    "| 1 | 17 |\n",
    "| 2 | 6 |\n",
    "| 3 | 3 |\n",
    "| 4 | 1 |\n",
    "| 5 | 2 |\n",
    "| 6 | 1 |\n",
    "| 7 | 0 |\n",
    "| 8 | 1 |"
   ]
  },
  {
   "cell_type": "markdown",
   "id": "9b1d949d",
   "metadata": {},
   "source": [
    "#### Part a: Construct the relative frequency histogram for the number of parasites per fox."
   ]
  },
  {
   "cell_type": "code",
   "execution_count": 50,
   "id": "fb8f28bb",
   "metadata": {},
   "outputs": [],
   "source": [
    "data = [69, 17, 6, 3, 1, 2, 1, 0, 1]\n",
    "x = [0,1,2,3,4,5,6,7,8]"
   ]
  },
  {
   "cell_type": "code",
   "execution_count": 54,
   "id": "393287d3",
   "metadata": {},
   "outputs": [
    {
     "data": {
      "text/plain": [
       "Text(0, 0.5, 'Number of Foxes')"
      ]
     },
     "execution_count": 54,
     "metadata": {},
     "output_type": "execute_result"
    },
    {
     "data": {
      "image/png": "[encoded data removed]",
      "text/plain": [
       "<Figure size 432x288 with 1 Axes>"
      ]
     },
     "metadata": {
      "needs_background": "light"
     },
     "output_type": "display_data"
    }
   ],
   "source": [
    "plt.bar(x = x, height = data)\n",
    "plt.xlabel('Number of Parasites')\n",
    "plt.ylabel('Number of Foxes')"
   ]
  },
  {
   "cell_type": "markdown",
   "id": "540374b1",
   "metadata": {},
   "source": [
    "#### Part b: Calculate y and s for the data given."
   ]
  },
  {
   "cell_type": "code",
   "execution_count": 63,
   "id": "cf1f6a3e",
   "metadata": {},
   "outputs": [],
   "source": [
    "y = (0*69)+(1*17)+(2*6)+(3*3)+(4*1)+(5*2)+(6*1)+(7*0)+(8*1)\n",
    "y_bar = y/(sum(data))\n",
    "variance = (((0-y_bar)**2)*(69) + ((1-y_bar)**2)*(17) + ((2-y_bar)**2)*(6) + ((3-y_bar)**2)*(3) + ((4-y_bar)**2)*(1) + ((5-y_bar)**2)*(2) + ((6-y_bar)**2)*(1) + ((7-y_bar)**2)*(0) + ((8-y_bar)**2)*(1))/99\n",
    "std_dev = variance**0.5"
   ]
  },
  {
   "cell_type": "code",
   "execution_count": 64,
   "id": "495350f4",
   "metadata": {},
   "outputs": [
    {
     "data": {
      "text/plain": [
       "0.66"
      ]
     },
     "execution_count": 64,
     "metadata": {},
     "output_type": "execute_result"
    }
   ],
   "source": [
    "y_bar"
   ]
  },
  {
   "cell_type": "code",
   "execution_count": 65,
   "id": "9110e0af",
   "metadata": {},
   "outputs": [
    {
     "data": {
      "text/plain": [
       "1.3869521850577127"
      ]
     },
     "execution_count": 65,
     "metadata": {},
     "output_type": "execute_result"
    }
   ],
   "source": [
    "std_dev"
   ]
  },
  {
   "cell_type": "markdown",
   "id": "9b10b0ea",
   "metadata": {},
   "source": [
    "#### Part c: What fraction of the parasite counts falls within 2 standard deviations of the mean? Within 3 standard deviations? Do your results agree with Tchebysheff’s theorem (Exercise 1.32) and/or the empirical rule?"
   ]
  },
  {
   "cell_type": "markdown",
   "id": "759d5dfc",
   "metadata": {},
   "source": [
    "$\\bar{y} = 0.66$<br>\n",
    "$s = 1.387$<br>\n",
    "$2s = 3.4 \\ \\text{&} \\ 0$<br>\n",
    "$3s = 4.821 \\ \\text{&} \\ 0$<br>\n",
    "The fraction of parasite counts falling within 2$\\sigma$ is $\\frac{95}{100}$<br>\n",
    "Using Tchebysheff’s theorem, which states that for any number of samples, the fraction included in the interval $\\bar{y}-ks  \\ to \\ \\bar{y}+ks$ is atleast $1 - \\frac{1}{k^2}$<br>\n",
    "$fraction(2\\sigma) = 1- \\frac{1}{2^2} = 0.75$\n",
    "The fraction of paradite counts falling within 3$\\sigma$ is $\\frac{96}{100}$<br>\n",
    "$fraction(2\\sigma) = 1- \\frac{1}{3^2} = 0.88$\n"
   ]
  },
  {
   "cell_type": "markdown",
   "id": "85cca7b1",
   "metadata": {},
   "source": [
    "### Question 1.37\n",
    "\n",
    "Studies indicate that drinking water supplied by some old lead-lined city piping systems may contain harmful levels of lead. Based on data presented by Karalekas and colleagues, it appears that the distribution of lead content readings for individual water specimens has mean .033 mg/L and standard deviation .10 mg/L. Explain why it is obvious that the lead content readings are not normally distributed."
   ]
  },
  {
   "cell_type": "markdown",
   "id": "ee6a6efe",
   "metadata": {},
   "source": [
    "This is clearly not normally distributed, becuase one $s$ is negative, which is not possible. According to the emprical rule, 68% of the data should lie within +- 1s, but this is not possible here due to the negative values."
   ]
  },
  {
   "cell_type": "markdown",
   "id": "a6dda479",
   "metadata": {},
   "source": []
  },
  {
   "cell_type": "code",
   "execution_count": null,
   "id": "30a2493a",
   "metadata": {},
   "outputs": [],
   "source": []
  }
 ],
 "metadata": {
  "kernelspec": {
   "display_name": "Python 3 (ipykernel)",
   "language": "python",
   "name": "python3"
  },
  "language_info": {
   "codemirror_mode": {
    "name": "ipython",
    "version": 3
   },
   "file_extension": ".py",
   "mimetype": "text/x-python",
   "name": "python",
   "nbconvert_exporter": "python",
   "pygments_lexer": "ipython3",
   "version": "3.8.8"
  }
 },
 "nbformat": 4,
 "nbformat_minor": 5
}
